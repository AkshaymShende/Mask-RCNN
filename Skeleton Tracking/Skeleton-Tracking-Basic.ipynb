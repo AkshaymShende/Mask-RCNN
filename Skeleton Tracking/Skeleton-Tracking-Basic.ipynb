{
 "cells": [
  {
   "cell_type": "code",
   "execution_count": 4,
   "metadata": {},
   "outputs": [],
   "source": [
    "# ! pip install --upgrade tensorflow-hub"
   ]
  },
  {
   "cell_type": "code",
   "execution_count": 1,
   "metadata": {},
   "outputs": [
    {
     "name": "stdout",
     "output_type": "stream",
     "text": [
      "INFO:tensorflow:Enabling eager execution\n",
      "INFO:tensorflow:Enabling v2 tensorshape\n",
      "INFO:tensorflow:Enabling resource variables\n",
      "INFO:tensorflow:Enabling tensor equality\n",
      "INFO:tensorflow:Enabling control flow v2\n"
     ]
    }
   ],
   "source": [
    "import cv2\n",
    "import tensorflow as tf\n",
    "import numpy as np\n",
    "import matplotlib.pyplot as plt \n",
    "import tensorflow_hub as hub\n",
    "import imutils"
   ]
  },
  {
   "cell_type": "code",
   "execution_count": 2,
   "metadata": {},
   "outputs": [],
   "source": [
    "# Loading model \n",
    "\n",
    "model = hub.load(\"https://tfhub.dev/google/movenet/singlepose/lightning/4\")\n",
    "\n",
    "movenet = model.signatures['serving_default']"
   ]
  },
  {
   "cell_type": "code",
   "execution_count": 3,
   "metadata": {},
   "outputs": [],
   "source": [
    "# Drawing circles on predictions \n",
    "\n",
    "def draw_circels(frame, outputs):\n",
    "    \n",
    "    keypoints = np.squeeze(outputs['output_0'].numpy())*[frame.shape[0],frame.shape[1],1]\n",
    "\n",
    "    for kp in keypoints:\n",
    "        \n",
    "        ky,kx,kp_conf = kp\n",
    "\n",
    "        if kp_conf > 0.6:\n",
    "\n",
    "            cv2.circle(frame,(int(kx),int(ky)),4,(0,255,0),-1)"
   ]
  },
  {
   "cell_type": "code",
   "execution_count": 4,
   "metadata": {},
   "outputs": [],
   "source": [
    "EDGE_LIST = {\n",
    "    (0, 1): 'm',\n",
    "    (0, 2): 'c',\n",
    "    (1, 3): 'm',\n",
    "    (2, 4): 'c',\n",
    "    (0, 5): 'm',\n",
    "    (0, 6): 'c',\n",
    "    (5, 7): 'm',\n",
    "    (7, 9): 'm',\n",
    "    (6, 8): 'c',\n",
    "    (8, 10): 'c',\n",
    "    (5, 6): 'y',\n",
    "    (5, 11): 'm',\n",
    "    (6, 12): 'c',\n",
    "    (11, 12): 'y',\n",
    "    (11, 13): 'm',\n",
    "    (13, 15): 'm',\n",
    "    (12, 14): 'c',\n",
    "    (14, 16): 'c'\n",
    "}\n",
    "\n",
    "\n",
    "\n",
    "def draw_edges(frame, outputs, edges):\n",
    "\n",
    "    keypoints = np.squeeze(outputs['output_0'].numpy())*[frame.shape[0],frame.shape[1],1]\n",
    "\n",
    "    for edge,color in edges.items():\n",
    "        p1,p2 = edge\n",
    "        y1,x1,c1 = keypoints[p1]\n",
    "        y2,x2,c2 = keypoints[p2]\n",
    "\n",
    "        if (c1>0.6) & (c2>0.6):\n",
    "            cv2.line(frame,(int(x1),int(y1)),(int(x2),int(y2)), (255,0,0), 2)\n"
   ]
  },
  {
   "cell_type": "code",
   "execution_count": 6,
   "metadata": {},
   "outputs": [],
   "source": [
    "# Making predictions \n",
    "\n",
    "cap = cv2.VideoCapture(0)\n",
    "\n",
    "while cap.isOpened():\n",
    "\n",
    "    ret,frame = cap.read()\n",
    "\n",
    "    img = frame.copy()\n",
    "\n",
    "    # resizing frame\n",
    "    input_image = tf.image.resize_with_pad(np.expand_dims(img, axis=0),192,192)\n",
    "    input_image = tf.cast(input_image,dtype=tf.int32)\n",
    "\n",
    "    # run model\n",
    "\n",
    "    outputs = movenet(input_image)\n",
    "\n",
    "    \n",
    "    # plotting ouputs \n",
    "\n",
    "    draw_circels(frame, outputs)\n",
    "    draw_edges(frame, outputs, EDGE_LIST)\n",
    "    \n",
    "\n",
    "    cv2.imshow(\"Movenet Detection\",frame)\n",
    "\n",
    "    if cv2.waitKey(10) & 0xFF==ord('q'):\n",
    "        break\n",
    "\n",
    "cap.release()\n",
    "cv2.destroyAllWindows()\n"
   ]
  }
 ],
 "metadata": {
  "interpreter": {
   "hash": "b1ca1032a8e25a3881d6b4ce3aace37050d7f26b92a8d3c9e94cca9c9812b621"
  },
  "kernelspec": {
   "display_name": "Python 3.9.4 64-bit",
   "name": "python3"
  },
  "language_info": {
   "codemirror_mode": {
    "name": "ipython",
    "version": 3
   },
   "file_extension": ".py",
   "mimetype": "text/x-python",
   "name": "python",
   "nbconvert_exporter": "python",
   "pygments_lexer": "ipython3",
   "version": "3.9.4"
  },
  "orig_nbformat": 4
 },
 "nbformat": 4,
 "nbformat_minor": 2
}
